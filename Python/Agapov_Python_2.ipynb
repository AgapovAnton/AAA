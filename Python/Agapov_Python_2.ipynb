{
 "cells": [
  {
   "cell_type": "markdown",
   "id": "781bab24",
   "metadata": {},
   "source": [
    "Задание\n",
    "\n",
    "Реализуйте класс CountVectorizer, имеющий\n",
    "- метод fit_transform \n",
    "    принимает текстовый корпус\n",
    "    возвращает терм-документную матрицу\n",
    "- метод get_feature_names\n",
    "    ничего не принимает\n",
    "    возвращает список фичей (уникальных слов из корпуса)\n",
    "\n",
    "Условия:\n",
    "- пользоваться внешними пакетами запрещено\n",
    "- решение должно быть в *.py файлах\n",
    "- не должно быть замечаний по PEP8\n",
    "- если умеешь, то напиши проверки/тесты\n",
    "\n",
    "Пример решения\n",
    "\n",
    "corpus = [\n",
    "    'Crock Pot Pasta Never boil pasta again',\n",
    "    'Pasta Pomodoro Fresh ingredients Parmesan to taste'\n",
    "]\n",
    "vectorizer = CountVectorizer()\n",
    "count_matrix = vectorizer.fit_transform(corpus)\n",
    "\n",
    "print(vectorizer.get_feature_names())\n",
    " Out: ['crock', 'pot', 'pasta', 'never', 'boil', 'again', 'pomodoro',\n",
    "       'fresh', 'ingredients', 'parmesan', 'to', 'taste']\n",
    "\n",
    "print(count_matrix)\n",
    " Out: [[1, 1, 2, 1, 1, 1, 0, 0, 0, 0, 0, 0],\n",
    "       [0, 0, 1, 0, 0, 0, 1, 1, 1, 1, 1, 1]]\n",
    "\n",
    "Решение надо загрузить на Github, в ответе приложить ссылку на решение"
   ]
  },
  {
   "cell_type": "code",
   "execution_count": 4,
   "id": "7867919f",
   "metadata": {},
   "outputs": [],
   "source": [
    "class CountVectorizer():\n",
    "    \"\"\" \"\"\"\n",
    "    def __init__(self, input):\n",
    "        self.input = input\n",
    "        \n",
    "    def "
   ]
  },
  {
   "cell_type": "code",
   "execution_count": null,
   "id": "6ec7ccc0",
   "metadata": {},
   "outputs": [],
   "source": []
  },
  {
   "cell_type": "code",
   "execution_count": null,
   "id": "9ae77df4",
   "metadata": {},
   "outputs": [],
   "source": []
  }
 ],
 "metadata": {
  "kernelspec": {
   "display_name": "Python 3",
   "language": "python",
   "name": "python3"
  },
  "language_info": {
   "codemirror_mode": {
    "name": "ipython",
    "version": 3
   },
   "file_extension": ".py",
   "mimetype": "text/x-python",
   "name": "python",
   "nbconvert_exporter": "python",
   "pygments_lexer": "ipython3",
   "version": "3.8.8"
  }
 },
 "nbformat": 4,
 "nbformat_minor": 5
}
